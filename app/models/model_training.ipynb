{
 "cells": [
  {
   "cell_type": "markdown",
   "metadata": {},
   "source": [
    "## Обучение пайплайна\n",
    "\n",
    "1. Загрузим данные \n",
    "   UCI Dataset - Contraceptive Method Choice Data Set:\n",
    "   - https://archive.ics.uci.edu/ml/datasets/Contraceptive+Method+Choice\n",
    "2. Соберем пайплайн с препроцессингом\n",
    "3. Обучим catboost и сохраним на диск предобученный пайплайн\n"
   ]
  },
  {
   "cell_type": "markdown",
   "metadata": {
    "id": "EMweSoIKMz_G"
   },
   "source": [
    "**Импорт библиотек**"
   ]
  },
  {
   "cell_type": "code",
   "execution_count": 78,
   "metadata": {
    "id": "F3sScxD8Mz_H"
   },
   "outputs": [],
   "source": [
    "import numpy as np\n",
    "import pandas as pd\n",
    "import itertools\n",
    "from matplotlib import pyplot as plt\n",
    "%matplotlib inline\n",
    "\n",
    "import dill\n",
    "import sklearn.datasets\n",
    "from sklearn.model_selection import train_test_split\n",
    "from sklearn.preprocessing import StandardScaler\n",
    "from sklearn.base import BaseEstimator, TransformerMixin\n",
    "from sklearn.impute import SimpleImputer\n",
    "from sklearn.pipeline import Pipeline, FeatureUnion\n",
    "from catboost import CatBoostClassifier\n",
    "from sklearn.metrics import recall_score, roc_curve, precision_score, roc_auc_score, accuracy_score, f1_score, confusion_matrix, precision_recall_curve,confusion_matrix, classification_report\n"
   ]
  },
  {
   "cell_type": "code",
   "execution_count": 79,
   "metadata": {
    "id": "oEEv17le7r13"
   },
   "outputs": [],
   "source": [
    "names = pd.read_csv(\"data/names.csv\", header = None)"
   ]
  },
  {
   "cell_type": "code",
   "execution_count": 80,
   "metadata": {
    "colab": {
     "base_uri": "https://localhost:8080/",
     "height": 363
    },
    "id": "cGNKvRXT8dix",
    "outputId": "a69dada3-4ee3-47f9-dc86-0c25c5106ca6"
   },
   "outputs": [
    {
     "data": {
      "text/html": [
       "<div>\n",
       "<style scoped>\n",
       "    .dataframe tbody tr th:only-of-type {\n",
       "        vertical-align: middle;\n",
       "    }\n",
       "\n",
       "    .dataframe tbody tr th {\n",
       "        vertical-align: top;\n",
       "    }\n",
       "\n",
       "    .dataframe thead th {\n",
       "        text-align: right;\n",
       "    }\n",
       "</style>\n",
       "<table border=\"1\" class=\"dataframe\">\n",
       "  <thead>\n",
       "    <tr style=\"text-align: right;\">\n",
       "      <th></th>\n",
       "      <th>0</th>\n",
       "    </tr>\n",
       "  </thead>\n",
       "  <tbody>\n",
       "    <tr>\n",
       "      <th>0</th>\n",
       "      <td>Wife_age</td>\n",
       "    </tr>\n",
       "    <tr>\n",
       "      <th>1</th>\n",
       "      <td>Wife_education</td>\n",
       "    </tr>\n",
       "    <tr>\n",
       "      <th>2</th>\n",
       "      <td>Husband_education</td>\n",
       "    </tr>\n",
       "    <tr>\n",
       "      <th>3</th>\n",
       "      <td>Children</td>\n",
       "    </tr>\n",
       "    <tr>\n",
       "      <th>4</th>\n",
       "      <td>Religion</td>\n",
       "    </tr>\n",
       "    <tr>\n",
       "      <th>5</th>\n",
       "      <td>Working</td>\n",
       "    </tr>\n",
       "    <tr>\n",
       "      <th>6</th>\n",
       "      <td>Husband_Work</td>\n",
       "    </tr>\n",
       "    <tr>\n",
       "      <th>7</th>\n",
       "      <td>Standard-of-living</td>\n",
       "    </tr>\n",
       "    <tr>\n",
       "      <th>8</th>\n",
       "      <td>Media_exposure</td>\n",
       "    </tr>\n",
       "    <tr>\n",
       "      <th>9</th>\n",
       "      <td>Contraceptive method used</td>\n",
       "    </tr>\n",
       "  </tbody>\n",
       "</table>\n",
       "</div>"
      ],
      "text/plain": [
       "                           0\n",
       "0                   Wife_age\n",
       "1             Wife_education\n",
       "2          Husband_education\n",
       "3                   Children\n",
       "4                   Religion\n",
       "5                    Working\n",
       "6               Husband_Work\n",
       "7         Standard-of-living\n",
       "8             Media_exposure\n",
       "9  Contraceptive method used"
      ]
     },
     "execution_count": 80,
     "metadata": {},
     "output_type": "execute_result"
    }
   ],
   "source": [
    "names[::1]"
   ]
  },
  {
   "cell_type": "code",
   "execution_count": 81,
   "metadata": {
    "id": "mLYfRezB66bp"
   },
   "outputs": [],
   "source": [
    "columns = [i[0] for i in names.values.tolist()]"
   ]
  },
  {
   "cell_type": "code",
   "execution_count": 82,
   "metadata": {
    "colab": {
     "base_uri": "https://localhost:8080/"
    },
    "id": "1Z6ZRX5y837x",
    "outputId": "27f83be7-04ee-477f-9eff-1d57df6f3347"
   },
   "outputs": [
    {
     "data": {
      "text/plain": [
       "['Wife_age',\n",
       " 'Wife_education',\n",
       " 'Husband_education',\n",
       " 'Children',\n",
       " 'Religion',\n",
       " 'Working',\n",
       " 'Husband_Work',\n",
       " 'Standard-of-living',\n",
       " 'Media_exposure',\n",
       " 'Contraceptive method used']"
      ]
     },
     "execution_count": 82,
     "metadata": {},
     "output_type": "execute_result"
    }
   ],
   "source": [
    "columns"
   ]
  },
  {
   "cell_type": "code",
   "execution_count": 83,
   "metadata": {
    "colab": {
     "base_uri": "https://localhost:8080/",
     "height": 330
    },
    "id": "5MhUwPUw7qKc",
    "outputId": "3793c29a-d0a6-478f-f5d9-8b04c40feffa"
   },
   "outputs": [
    {
     "data": {
      "text/html": [
       "<div>\n",
       "<style scoped>\n",
       "    .dataframe tbody tr th:only-of-type {\n",
       "        vertical-align: middle;\n",
       "    }\n",
       "\n",
       "    .dataframe tbody tr th {\n",
       "        vertical-align: top;\n",
       "    }\n",
       "\n",
       "    .dataframe thead th {\n",
       "        text-align: right;\n",
       "    }\n",
       "</style>\n",
       "<table border=\"1\" class=\"dataframe\">\n",
       "  <thead>\n",
       "    <tr style=\"text-align: right;\">\n",
       "      <th></th>\n",
       "      <th>Wife_age</th>\n",
       "      <th>Wife_education</th>\n",
       "      <th>Husband_education</th>\n",
       "      <th>Children</th>\n",
       "      <th>Religion</th>\n",
       "      <th>Working</th>\n",
       "      <th>Husband_Work</th>\n",
       "      <th>Standard-of-living</th>\n",
       "      <th>Media_exposure</th>\n",
       "      <th>Contraceptive method used</th>\n",
       "    </tr>\n",
       "  </thead>\n",
       "  <tbody>\n",
       "    <tr>\n",
       "      <th>0</th>\n",
       "      <td>24</td>\n",
       "      <td>2</td>\n",
       "      <td>3</td>\n",
       "      <td>3</td>\n",
       "      <td>1</td>\n",
       "      <td>1</td>\n",
       "      <td>2</td>\n",
       "      <td>3</td>\n",
       "      <td>0</td>\n",
       "      <td>1</td>\n",
       "    </tr>\n",
       "    <tr>\n",
       "      <th>1</th>\n",
       "      <td>45</td>\n",
       "      <td>1</td>\n",
       "      <td>3</td>\n",
       "      <td>10</td>\n",
       "      <td>1</td>\n",
       "      <td>1</td>\n",
       "      <td>3</td>\n",
       "      <td>4</td>\n",
       "      <td>0</td>\n",
       "      <td>1</td>\n",
       "    </tr>\n",
       "    <tr>\n",
       "      <th>2</th>\n",
       "      <td>43</td>\n",
       "      <td>2</td>\n",
       "      <td>3</td>\n",
       "      <td>7</td>\n",
       "      <td>1</td>\n",
       "      <td>1</td>\n",
       "      <td>3</td>\n",
       "      <td>4</td>\n",
       "      <td>0</td>\n",
       "      <td>1</td>\n",
       "    </tr>\n",
       "    <tr>\n",
       "      <th>3</th>\n",
       "      <td>42</td>\n",
       "      <td>3</td>\n",
       "      <td>2</td>\n",
       "      <td>9</td>\n",
       "      <td>1</td>\n",
       "      <td>1</td>\n",
       "      <td>3</td>\n",
       "      <td>3</td>\n",
       "      <td>0</td>\n",
       "      <td>1</td>\n",
       "    </tr>\n",
       "    <tr>\n",
       "      <th>4</th>\n",
       "      <td>36</td>\n",
       "      <td>3</td>\n",
       "      <td>3</td>\n",
       "      <td>8</td>\n",
       "      <td>1</td>\n",
       "      <td>1</td>\n",
       "      <td>3</td>\n",
       "      <td>2</td>\n",
       "      <td>0</td>\n",
       "      <td>1</td>\n",
       "    </tr>\n",
       "    <tr>\n",
       "      <th>5</th>\n",
       "      <td>19</td>\n",
       "      <td>4</td>\n",
       "      <td>4</td>\n",
       "      <td>0</td>\n",
       "      <td>1</td>\n",
       "      <td>1</td>\n",
       "      <td>3</td>\n",
       "      <td>3</td>\n",
       "      <td>0</td>\n",
       "      <td>1</td>\n",
       "    </tr>\n",
       "    <tr>\n",
       "      <th>6</th>\n",
       "      <td>38</td>\n",
       "      <td>2</td>\n",
       "      <td>3</td>\n",
       "      <td>6</td>\n",
       "      <td>1</td>\n",
       "      <td>1</td>\n",
       "      <td>3</td>\n",
       "      <td>2</td>\n",
       "      <td>0</td>\n",
       "      <td>1</td>\n",
       "    </tr>\n",
       "  </tbody>\n",
       "</table>\n",
       "</div>"
      ],
      "text/plain": [
       "   Wife_age  Wife_education  Husband_education  Children  Religion  Working  \\\n",
       "0        24               2                  3         3         1        1   \n",
       "1        45               1                  3        10         1        1   \n",
       "2        43               2                  3         7         1        1   \n",
       "3        42               3                  2         9         1        1   \n",
       "4        36               3                  3         8         1        1   \n",
       "5        19               4                  4         0         1        1   \n",
       "6        38               2                  3         6         1        1   \n",
       "\n",
       "   Husband_Work  Standard-of-living  Media_exposure  Contraceptive method used  \n",
       "0             2                   3               0                          1  \n",
       "1             3                   4               0                          1  \n",
       "2             3                   4               0                          1  \n",
       "3             3                   3               0                          1  \n",
       "4             3                   2               0                          1  \n",
       "5             3                   3               0                          1  \n",
       "6             3                   2               0                          1  "
      ]
     },
     "execution_count": 83,
     "metadata": {},
     "output_type": "execute_result"
    }
   ],
   "source": [
    "df = pd.read_csv(\"data/data.csv\", sep = ',', names = columns)\n",
    "df.head(7)"
   ]
  },
  {
   "cell_type": "code",
   "execution_count": 84,
   "metadata": {
    "colab": {
     "base_uri": "https://localhost:8080/"
    },
    "id": "IQ7VsbhyMz_N",
    "outputId": "e50deccb-4c26-45a8-90d5-aee8d64d7a46"
   },
   "outputs": [
    {
     "data": {
      "text/plain": [
       "(1473, 10)"
      ]
     },
     "execution_count": 84,
     "metadata": {},
     "output_type": "execute_result"
    }
   ],
   "source": [
    "df.shape"
   ]
  },
  {
   "cell_type": "code",
   "execution_count": 85,
   "metadata": {
    "colab": {
     "base_uri": "https://localhost:8080/",
     "height": 362
    },
    "id": "DuK2U11B-NoQ",
    "outputId": "eb448346-5902-4070-e3f2-dece1834076e"
   },
   "outputs": [
    {
     "data": {
      "text/html": [
       "<div>\n",
       "<style scoped>\n",
       "    .dataframe tbody tr th:only-of-type {\n",
       "        vertical-align: middle;\n",
       "    }\n",
       "\n",
       "    .dataframe tbody tr th {\n",
       "        vertical-align: top;\n",
       "    }\n",
       "\n",
       "    .dataframe thead th {\n",
       "        text-align: right;\n",
       "    }\n",
       "</style>\n",
       "<table border=\"1\" class=\"dataframe\">\n",
       "  <thead>\n",
       "    <tr style=\"text-align: right;\">\n",
       "      <th></th>\n",
       "      <th>Wife_age</th>\n",
       "      <th>Wife_education</th>\n",
       "      <th>Husband_education</th>\n",
       "      <th>Children</th>\n",
       "      <th>Religion</th>\n",
       "      <th>Working</th>\n",
       "      <th>Husband_Work</th>\n",
       "      <th>Standard-of-living</th>\n",
       "      <th>Media_exposure</th>\n",
       "      <th>Contraceptive method used</th>\n",
       "    </tr>\n",
       "  </thead>\n",
       "  <tbody>\n",
       "    <tr>\n",
       "      <th>count</th>\n",
       "      <td>1473.000000</td>\n",
       "      <td>1473.000000</td>\n",
       "      <td>1473.000000</td>\n",
       "      <td>1473.000000</td>\n",
       "      <td>1473.000000</td>\n",
       "      <td>1473.000000</td>\n",
       "      <td>1473.000000</td>\n",
       "      <td>1473.000000</td>\n",
       "      <td>1473.000000</td>\n",
       "      <td>1473.000000</td>\n",
       "    </tr>\n",
       "    <tr>\n",
       "      <th>mean</th>\n",
       "      <td>32.538357</td>\n",
       "      <td>2.958588</td>\n",
       "      <td>3.429735</td>\n",
       "      <td>3.261371</td>\n",
       "      <td>0.850645</td>\n",
       "      <td>0.749491</td>\n",
       "      <td>2.137814</td>\n",
       "      <td>3.133741</td>\n",
       "      <td>0.073999</td>\n",
       "      <td>1.919891</td>\n",
       "    </tr>\n",
       "    <tr>\n",
       "      <th>std</th>\n",
       "      <td>8.227245</td>\n",
       "      <td>1.014994</td>\n",
       "      <td>0.816349</td>\n",
       "      <td>2.358549</td>\n",
       "      <td>0.356559</td>\n",
       "      <td>0.433453</td>\n",
       "      <td>0.864857</td>\n",
       "      <td>0.976161</td>\n",
       "      <td>0.261858</td>\n",
       "      <td>0.876376</td>\n",
       "    </tr>\n",
       "    <tr>\n",
       "      <th>min</th>\n",
       "      <td>16.000000</td>\n",
       "      <td>1.000000</td>\n",
       "      <td>1.000000</td>\n",
       "      <td>0.000000</td>\n",
       "      <td>0.000000</td>\n",
       "      <td>0.000000</td>\n",
       "      <td>1.000000</td>\n",
       "      <td>1.000000</td>\n",
       "      <td>0.000000</td>\n",
       "      <td>1.000000</td>\n",
       "    </tr>\n",
       "    <tr>\n",
       "      <th>25%</th>\n",
       "      <td>26.000000</td>\n",
       "      <td>2.000000</td>\n",
       "      <td>3.000000</td>\n",
       "      <td>1.000000</td>\n",
       "      <td>1.000000</td>\n",
       "      <td>0.000000</td>\n",
       "      <td>1.000000</td>\n",
       "      <td>3.000000</td>\n",
       "      <td>0.000000</td>\n",
       "      <td>1.000000</td>\n",
       "    </tr>\n",
       "    <tr>\n",
       "      <th>50%</th>\n",
       "      <td>32.000000</td>\n",
       "      <td>3.000000</td>\n",
       "      <td>4.000000</td>\n",
       "      <td>3.000000</td>\n",
       "      <td>1.000000</td>\n",
       "      <td>1.000000</td>\n",
       "      <td>2.000000</td>\n",
       "      <td>3.000000</td>\n",
       "      <td>0.000000</td>\n",
       "      <td>2.000000</td>\n",
       "    </tr>\n",
       "    <tr>\n",
       "      <th>75%</th>\n",
       "      <td>39.000000</td>\n",
       "      <td>4.000000</td>\n",
       "      <td>4.000000</td>\n",
       "      <td>4.000000</td>\n",
       "      <td>1.000000</td>\n",
       "      <td>1.000000</td>\n",
       "      <td>3.000000</td>\n",
       "      <td>4.000000</td>\n",
       "      <td>0.000000</td>\n",
       "      <td>3.000000</td>\n",
       "    </tr>\n",
       "    <tr>\n",
       "      <th>max</th>\n",
       "      <td>49.000000</td>\n",
       "      <td>4.000000</td>\n",
       "      <td>4.000000</td>\n",
       "      <td>16.000000</td>\n",
       "      <td>1.000000</td>\n",
       "      <td>1.000000</td>\n",
       "      <td>4.000000</td>\n",
       "      <td>4.000000</td>\n",
       "      <td>1.000000</td>\n",
       "      <td>3.000000</td>\n",
       "    </tr>\n",
       "  </tbody>\n",
       "</table>\n",
       "</div>"
      ],
      "text/plain": [
       "          Wife_age  Wife_education  Husband_education     Children  \\\n",
       "count  1473.000000     1473.000000        1473.000000  1473.000000   \n",
       "mean     32.538357        2.958588           3.429735     3.261371   \n",
       "std       8.227245        1.014994           0.816349     2.358549   \n",
       "min      16.000000        1.000000           1.000000     0.000000   \n",
       "25%      26.000000        2.000000           3.000000     1.000000   \n",
       "50%      32.000000        3.000000           4.000000     3.000000   \n",
       "75%      39.000000        4.000000           4.000000     4.000000   \n",
       "max      49.000000        4.000000           4.000000    16.000000   \n",
       "\n",
       "          Religion      Working  Husband_Work  Standard-of-living  \\\n",
       "count  1473.000000  1473.000000   1473.000000         1473.000000   \n",
       "mean      0.850645     0.749491      2.137814            3.133741   \n",
       "std       0.356559     0.433453      0.864857            0.976161   \n",
       "min       0.000000     0.000000      1.000000            1.000000   \n",
       "25%       1.000000     0.000000      1.000000            3.000000   \n",
       "50%       1.000000     1.000000      2.000000            3.000000   \n",
       "75%       1.000000     1.000000      3.000000            4.000000   \n",
       "max       1.000000     1.000000      4.000000            4.000000   \n",
       "\n",
       "       Media_exposure  Contraceptive method used  \n",
       "count     1473.000000                1473.000000  \n",
       "mean         0.073999                   1.919891  \n",
       "std          0.261858                   0.876376  \n",
       "min          0.000000                   1.000000  \n",
       "25%          0.000000                   1.000000  \n",
       "50%          0.000000                   2.000000  \n",
       "75%          0.000000                   3.000000  \n",
       "max          1.000000                   3.000000  "
      ]
     },
     "execution_count": 85,
     "metadata": {},
     "output_type": "execute_result"
    }
   ],
   "source": [
    "df.describe()"
   ]
  },
  {
   "cell_type": "code",
   "execution_count": 86,
   "metadata": {
    "colab": {
     "base_uri": "https://localhost:8080/"
    },
    "id": "Oq3ijvAO-ji7",
    "outputId": "2f30b3aa-fb60-43d6-d041-a36a4ceaaad1"
   },
   "outputs": [
    {
     "name": "stdout",
     "output_type": "stream",
     "text": [
      "<class 'pandas.core.frame.DataFrame'>\n",
      "RangeIndex: 1473 entries, 0 to 1472\n",
      "Data columns (total 10 columns):\n",
      " #   Column                     Non-Null Count  Dtype\n",
      "---  ------                     --------------  -----\n",
      " 0   Wife_age                   1473 non-null   int64\n",
      " 1   Wife_education             1473 non-null   int64\n",
      " 2   Husband_education          1473 non-null   int64\n",
      " 3   Children                   1473 non-null   int64\n",
      " 4   Religion                   1473 non-null   int64\n",
      " 5   Working                    1473 non-null   int64\n",
      " 6   Husband_Work               1473 non-null   int64\n",
      " 7   Standard-of-living         1473 non-null   int64\n",
      " 8   Media_exposure             1473 non-null   int64\n",
      " 9   Contraceptive method used  1473 non-null   int64\n",
      "dtypes: int64(10)\n",
      "memory usage: 115.2 KB\n"
     ]
    }
   ],
   "source": [
    "df.info()"
   ]
  },
  {
   "cell_type": "markdown",
   "metadata": {
    "id": "NsVLKhH_Mz_P"
   },
   "source": [
    "Смотрим баланс таргета. Так как в исходном датасете 3 целевых класса (1=No-use, 2=Long-term, 3=Short-term), трансформируем классы 2 и 3 в класс 1. Нам нужно определить кто не пользуется контрацептивами (категория 1)."
   ]
  },
  {
   "cell_type": "code",
   "execution_count": 87,
   "metadata": {
    "colab": {
     "base_uri": "https://localhost:8080/"
    },
    "id": "SL4aGkkVMz_P",
    "outputId": "9a25b5a9-c717-406d-9476-831212f99ad2"
   },
   "outputs": [
    {
     "data": {
      "text/plain": [
       "1    629\n",
       "3    511\n",
       "2    333\n",
       "Name: Contraceptive method used, dtype: int64"
      ]
     },
     "execution_count": 87,
     "metadata": {},
     "output_type": "execute_result"
    }
   ],
   "source": [
    "df['Contraceptive method used'].value_counts()"
   ]
  },
  {
   "cell_type": "code",
   "execution_count": 88,
   "metadata": {
    "colab": {
     "base_uri": "https://localhost:8080/"
    },
    "id": "ktwfi1S8DEe0",
    "outputId": "8525188e-fb54-4a5b-b1c3-42e540e830e4"
   },
   "outputs": [
    {
     "data": {
      "text/plain": [
       "0    844\n",
       "1    629\n",
       "Name: target, dtype: int64"
      ]
     },
     "execution_count": 88,
     "metadata": {},
     "output_type": "execute_result"
    }
   ],
   "source": [
    "df['target'] = [1 if x == 1 else 0 for x in df['Contraceptive method used']]\n",
    "\n",
    "df['target'].value_counts()"
   ]
  },
  {
   "cell_type": "code",
   "execution_count": 89,
   "metadata": {
    "colab": {
     "base_uri": "https://localhost:8080/",
     "height": 330
    },
    "id": "F-cjqRM8RQ9_",
    "outputId": "052ff018-be1c-4a71-bb38-8b5c6c483beb"
   },
   "outputs": [
    {
     "data": {
      "text/html": [
       "<div>\n",
       "<style scoped>\n",
       "    .dataframe tbody tr th:only-of-type {\n",
       "        vertical-align: middle;\n",
       "    }\n",
       "\n",
       "    .dataframe tbody tr th {\n",
       "        vertical-align: top;\n",
       "    }\n",
       "\n",
       "    .dataframe thead th {\n",
       "        text-align: right;\n",
       "    }\n",
       "</style>\n",
       "<table border=\"1\" class=\"dataframe\">\n",
       "  <thead>\n",
       "    <tr style=\"text-align: right;\">\n",
       "      <th></th>\n",
       "      <th>Wife_age</th>\n",
       "      <th>Wife_education</th>\n",
       "      <th>Husband_education</th>\n",
       "      <th>Children</th>\n",
       "      <th>Religion</th>\n",
       "      <th>Working</th>\n",
       "      <th>Husband_Work</th>\n",
       "      <th>Standard-of-living</th>\n",
       "      <th>Media_exposure</th>\n",
       "      <th>Contraceptive method used</th>\n",
       "      <th>target</th>\n",
       "    </tr>\n",
       "  </thead>\n",
       "  <tbody>\n",
       "    <tr>\n",
       "      <th>0</th>\n",
       "      <td>24</td>\n",
       "      <td>2</td>\n",
       "      <td>3</td>\n",
       "      <td>3</td>\n",
       "      <td>1</td>\n",
       "      <td>1</td>\n",
       "      <td>2</td>\n",
       "      <td>3</td>\n",
       "      <td>0</td>\n",
       "      <td>1</td>\n",
       "      <td>1</td>\n",
       "    </tr>\n",
       "    <tr>\n",
       "      <th>1</th>\n",
       "      <td>45</td>\n",
       "      <td>1</td>\n",
       "      <td>3</td>\n",
       "      <td>10</td>\n",
       "      <td>1</td>\n",
       "      <td>1</td>\n",
       "      <td>3</td>\n",
       "      <td>4</td>\n",
       "      <td>0</td>\n",
       "      <td>1</td>\n",
       "      <td>1</td>\n",
       "    </tr>\n",
       "    <tr>\n",
       "      <th>2</th>\n",
       "      <td>43</td>\n",
       "      <td>2</td>\n",
       "      <td>3</td>\n",
       "      <td>7</td>\n",
       "      <td>1</td>\n",
       "      <td>1</td>\n",
       "      <td>3</td>\n",
       "      <td>4</td>\n",
       "      <td>0</td>\n",
       "      <td>1</td>\n",
       "      <td>1</td>\n",
       "    </tr>\n",
       "    <tr>\n",
       "      <th>3</th>\n",
       "      <td>42</td>\n",
       "      <td>3</td>\n",
       "      <td>2</td>\n",
       "      <td>9</td>\n",
       "      <td>1</td>\n",
       "      <td>1</td>\n",
       "      <td>3</td>\n",
       "      <td>3</td>\n",
       "      <td>0</td>\n",
       "      <td>1</td>\n",
       "      <td>1</td>\n",
       "    </tr>\n",
       "    <tr>\n",
       "      <th>4</th>\n",
       "      <td>36</td>\n",
       "      <td>3</td>\n",
       "      <td>3</td>\n",
       "      <td>8</td>\n",
       "      <td>1</td>\n",
       "      <td>1</td>\n",
       "      <td>3</td>\n",
       "      <td>2</td>\n",
       "      <td>0</td>\n",
       "      <td>1</td>\n",
       "      <td>1</td>\n",
       "    </tr>\n",
       "    <tr>\n",
       "      <th>5</th>\n",
       "      <td>19</td>\n",
       "      <td>4</td>\n",
       "      <td>4</td>\n",
       "      <td>0</td>\n",
       "      <td>1</td>\n",
       "      <td>1</td>\n",
       "      <td>3</td>\n",
       "      <td>3</td>\n",
       "      <td>0</td>\n",
       "      <td>1</td>\n",
       "      <td>1</td>\n",
       "    </tr>\n",
       "    <tr>\n",
       "      <th>6</th>\n",
       "      <td>38</td>\n",
       "      <td>2</td>\n",
       "      <td>3</td>\n",
       "      <td>6</td>\n",
       "      <td>1</td>\n",
       "      <td>1</td>\n",
       "      <td>3</td>\n",
       "      <td>2</td>\n",
       "      <td>0</td>\n",
       "      <td>1</td>\n",
       "      <td>1</td>\n",
       "    </tr>\n",
       "  </tbody>\n",
       "</table>\n",
       "</div>"
      ],
      "text/plain": [
       "   Wife_age  Wife_education  Husband_education  Children  Religion  Working  \\\n",
       "0        24               2                  3         3         1        1   \n",
       "1        45               1                  3        10         1        1   \n",
       "2        43               2                  3         7         1        1   \n",
       "3        42               3                  2         9         1        1   \n",
       "4        36               3                  3         8         1        1   \n",
       "5        19               4                  4         0         1        1   \n",
       "6        38               2                  3         6         1        1   \n",
       "\n",
       "   Husband_Work  Standard-of-living  Media_exposure  \\\n",
       "0             2                   3               0   \n",
       "1             3                   4               0   \n",
       "2             3                   4               0   \n",
       "3             3                   3               0   \n",
       "4             3                   2               0   \n",
       "5             3                   3               0   \n",
       "6             3                   2               0   \n",
       "\n",
       "   Contraceptive method used  target  \n",
       "0                          1       1  \n",
       "1                          1       1  \n",
       "2                          1       1  \n",
       "3                          1       1  \n",
       "4                          1       1  \n",
       "5                          1       1  \n",
       "6                          1       1  "
      ]
     },
     "execution_count": 89,
     "metadata": {},
     "output_type": "execute_result"
    }
   ],
   "source": [
    "df.head(7)"
   ]
  },
  {
   "cell_type": "markdown",
   "metadata": {
    "id": "inEir1LwQ7m7"
   },
   "source": [
    "Датасет хорошо подготовлен и не требует дополнительного feature engeneering"
   ]
  },
  {
   "cell_type": "markdown",
   "metadata": {
    "id": "NMjoNlloMz_R"
   },
   "source": [
    "Делим данные на трейн и тест."
   ]
  },
  {
   "cell_type": "code",
   "execution_count": 90,
   "metadata": {
    "id": "Mhv_0OaeebgU"
   },
   "outputs": [],
   "source": [
    "x_data = df.iloc[:,:-2]\n",
    "y_data = df.iloc[:,-1]"
   ]
  },
  {
   "cell_type": "code",
   "execution_count": 91,
   "metadata": {
    "id": "hRWYIDI1eLI7"
   },
   "outputs": [],
   "source": [
    "X_train, X_test, y_train, y_test = train_test_split(x_data, y_data, test_size=0.33, random_state=42)"
   ]
  },
  {
   "cell_type": "code",
   "execution_count": 92,
   "metadata": {},
   "outputs": [],
   "source": [
    "#save test\n",
    "X_test.to_csv(\"data/X_test.csv\", index=None)\n",
    "y_test.to_csv(\"data/y_test.csv\", index=None)\n",
    "#save train\n",
    "X_train.to_csv(\"data/X_train.csv\", index=None)\n",
    "y_train.to_csv(\"data/y_train.csv\", index=None)"
   ]
  },
  {
   "cell_type": "code",
   "execution_count": 93,
   "metadata": {
    "id": "mYQggY1fMz_S"
   },
   "outputs": [],
   "source": [
    "cat_feats = [\"Wife_education\",\n",
    " \"Husband_education\",\n",
    " \"Religion\",\n",
    " \"Working\",\n",
    " \"Husband_Work\",\n",
    " \"Standard-of-living\",\n",
    " \"Media_exposure\"]\n",
    "cont_feats = [\"Wife_age\", \"Children\"]"
   ]
  },
  {
   "cell_type": "code",
   "execution_count": 101,
   "metadata": {},
   "outputs": [],
   "source": [
    "class ColumnSelector(BaseEstimator, TransformerMixin):\n",
    "    \"\"\"\n",
    "    Transformer to select a single column from the data frame to perform additional transformations on\n",
    "    \"\"\"\n",
    "    def __init__(self, key):\n",
    "        self.key = key\n",
    "\n",
    "    def fit(self, X, y=None):\n",
    "        return self\n",
    "\n",
    "    def transform(self, X):\n",
    "        return X[self.key]\n",
    "    \n",
    "class NumberSelector(BaseEstimator, TransformerMixin):\n",
    "    \"\"\"\n",
    "    Transformer to select a single column from the data frame to perform additional transformations on\n",
    "    Use on numeric columns in the data\n",
    "    \"\"\"\n",
    "    def __init__(self, key):\n",
    "        self.key = key\n",
    "\n",
    "    def fit(self, X, y=None):\n",
    "        return self\n",
    "\n",
    "    def transform(self, X):\n",
    "        return X[[self.key]]\n",
    "\n",
    "class NumpyToDataFrame(BaseEstimator, TransformerMixin):\n",
    "    def __init__(self, column_names, cat_feats):\n",
    "        self.column_names = column_names\n",
    "        self.cat_feats = cat_feats\n",
    "\n",
    "    def fit(self, X, y=None):\n",
    "        return self\n",
    "\n",
    "    def transform(self, X):\n",
    "        XX = pd.DataFrame(X, columns=self.column_names)\n",
    "        XX[self.cat_feats] = XX[self.cat_feats].astype(int)\n",
    "        return XX"
   ]
  },
  {
   "cell_type": "code",
   "execution_count": 102,
   "metadata": {},
   "outputs": [],
   "source": [
    "continuos_transformers = []\n",
    "cat_transformers = []\n",
    "\n",
    "for cont_col in cont_feats:\n",
    "    transfomer =  Pipeline([\n",
    "                ('selector', NumberSelector(key=cont_col)),\n",
    "                ('standard', StandardScaler())\n",
    "            ])\n",
    "    continuos_transformers.append((cont_col, transfomer))\n",
    "    \n",
    "for cat_col in cat_feats:\n",
    "    cat_transformer = Pipeline([\n",
    "                ('selector', NumberSelector(key=cat_col))\n",
    "            ])\n",
    "    cat_transformers.append((cat_col, cat_transformer))\n",
    "\n",
    "numpy_to_df = Pipeline([('numpy_to_df', NumpyToDataFrame(column_names=(cat_feats+cont_feats), cat_feats = cat_feats))])\n",
    "    "
   ]
  },
  {
   "cell_type": "code",
   "execution_count": 103,
   "metadata": {},
   "outputs": [],
   "source": [
    "feats = FeatureUnion(cat_transformers+continuos_transformers)"
   ]
  },
  {
   "cell_type": "code",
   "execution_count": 104,
   "metadata": {},
   "outputs": [],
   "source": [
    "preprocessing = Pipeline([\n",
    "                    ('feats', feats),\n",
    "                    ('numpy_df', numpy_to_df),\n",
    "            ])"
   ]
  },
  {
   "cell_type": "code",
   "execution_count": 105,
   "metadata": {},
   "outputs": [
    {
     "data": {
      "text/html": [
       "<div>\n",
       "<style scoped>\n",
       "    .dataframe tbody tr th:only-of-type {\n",
       "        vertical-align: middle;\n",
       "    }\n",
       "\n",
       "    .dataframe tbody tr th {\n",
       "        vertical-align: top;\n",
       "    }\n",
       "\n",
       "    .dataframe thead th {\n",
       "        text-align: right;\n",
       "    }\n",
       "</style>\n",
       "<table border=\"1\" class=\"dataframe\">\n",
       "  <thead>\n",
       "    <tr style=\"text-align: right;\">\n",
       "      <th></th>\n",
       "      <th>Wife_education</th>\n",
       "      <th>Husband_education</th>\n",
       "      <th>Religion</th>\n",
       "      <th>Working</th>\n",
       "      <th>Husband_Work</th>\n",
       "      <th>Standard-of-living</th>\n",
       "      <th>Media_exposure</th>\n",
       "      <th>Wife_age</th>\n",
       "      <th>Children</th>\n",
       "    </tr>\n",
       "  </thead>\n",
       "  <tbody>\n",
       "    <tr>\n",
       "      <th>0</th>\n",
       "      <td>2</td>\n",
       "      <td>2</td>\n",
       "      <td>1</td>\n",
       "      <td>1</td>\n",
       "      <td>3</td>\n",
       "      <td>4</td>\n",
       "      <td>0</td>\n",
       "      <td>0.251546</td>\n",
       "      <td>1.093753</td>\n",
       "    </tr>\n",
       "    <tr>\n",
       "      <th>1</th>\n",
       "      <td>4</td>\n",
       "      <td>4</td>\n",
       "      <td>1</td>\n",
       "      <td>1</td>\n",
       "      <td>3</td>\n",
       "      <td>4</td>\n",
       "      <td>0</td>\n",
       "      <td>0.491764</td>\n",
       "      <td>0.680558</td>\n",
       "    </tr>\n",
       "    <tr>\n",
       "      <th>2</th>\n",
       "      <td>4</td>\n",
       "      <td>3</td>\n",
       "      <td>1</td>\n",
       "      <td>1</td>\n",
       "      <td>3</td>\n",
       "      <td>3</td>\n",
       "      <td>0</td>\n",
       "      <td>-1.189759</td>\n",
       "      <td>-0.145834</td>\n",
       "    </tr>\n",
       "    <tr>\n",
       "      <th>3</th>\n",
       "      <td>3</td>\n",
       "      <td>3</td>\n",
       "      <td>1</td>\n",
       "      <td>1</td>\n",
       "      <td>1</td>\n",
       "      <td>2</td>\n",
       "      <td>0</td>\n",
       "      <td>0.491764</td>\n",
       "      <td>3.159732</td>\n",
       "    </tr>\n",
       "    <tr>\n",
       "      <th>4</th>\n",
       "      <td>3</td>\n",
       "      <td>3</td>\n",
       "      <td>1</td>\n",
       "      <td>1</td>\n",
       "      <td>2</td>\n",
       "      <td>2</td>\n",
       "      <td>0</td>\n",
       "      <td>-1.429977</td>\n",
       "      <td>-1.385421</td>\n",
       "    </tr>\n",
       "    <tr>\n",
       "      <th>...</th>\n",
       "      <td>...</td>\n",
       "      <td>...</td>\n",
       "      <td>...</td>\n",
       "      <td>...</td>\n",
       "      <td>...</td>\n",
       "      <td>...</td>\n",
       "      <td>...</td>\n",
       "      <td>...</td>\n",
       "      <td>...</td>\n",
       "    </tr>\n",
       "    <tr>\n",
       "      <th>981</th>\n",
       "      <td>2</td>\n",
       "      <td>4</td>\n",
       "      <td>1</td>\n",
       "      <td>0</td>\n",
       "      <td>3</td>\n",
       "      <td>4</td>\n",
       "      <td>0</td>\n",
       "      <td>0.131438</td>\n",
       "      <td>1.093753</td>\n",
       "    </tr>\n",
       "    <tr>\n",
       "      <th>982</th>\n",
       "      <td>4</td>\n",
       "      <td>4</td>\n",
       "      <td>1</td>\n",
       "      <td>0</td>\n",
       "      <td>3</td>\n",
       "      <td>4</td>\n",
       "      <td>0</td>\n",
       "      <td>-1.189759</td>\n",
       "      <td>-0.972225</td>\n",
       "    </tr>\n",
       "    <tr>\n",
       "      <th>983</th>\n",
       "      <td>3</td>\n",
       "      <td>4</td>\n",
       "      <td>1</td>\n",
       "      <td>1</td>\n",
       "      <td>3</td>\n",
       "      <td>2</td>\n",
       "      <td>0</td>\n",
       "      <td>-0.469106</td>\n",
       "      <td>-0.145834</td>\n",
       "    </tr>\n",
       "    <tr>\n",
       "      <th>984</th>\n",
       "      <td>4</td>\n",
       "      <td>4</td>\n",
       "      <td>0</td>\n",
       "      <td>0</td>\n",
       "      <td>2</td>\n",
       "      <td>4</td>\n",
       "      <td>0</td>\n",
       "      <td>0.491764</td>\n",
       "      <td>0.680558</td>\n",
       "    </tr>\n",
       "    <tr>\n",
       "      <th>985</th>\n",
       "      <td>4</td>\n",
       "      <td>4</td>\n",
       "      <td>1</td>\n",
       "      <td>1</td>\n",
       "      <td>1</td>\n",
       "      <td>2</td>\n",
       "      <td>0</td>\n",
       "      <td>-0.228889</td>\n",
       "      <td>-0.559030</td>\n",
       "    </tr>\n",
       "  </tbody>\n",
       "</table>\n",
       "<p>986 rows × 9 columns</p>\n",
       "</div>"
      ],
      "text/plain": [
       "     Wife_education  Husband_education  Religion  Working  Husband_Work  \\\n",
       "0                 2                  2         1        1             3   \n",
       "1                 4                  4         1        1             3   \n",
       "2                 4                  3         1        1             3   \n",
       "3                 3                  3         1        1             1   \n",
       "4                 3                  3         1        1             2   \n",
       "..              ...                ...       ...      ...           ...   \n",
       "981               2                  4         1        0             3   \n",
       "982               4                  4         1        0             3   \n",
       "983               3                  4         1        1             3   \n",
       "984               4                  4         0        0             2   \n",
       "985               4                  4         1        1             1   \n",
       "\n",
       "     Standard-of-living  Media_exposure  Wife_age  Children  \n",
       "0                     4               0  0.251546  1.093753  \n",
       "1                     4               0  0.491764  0.680558  \n",
       "2                     3               0 -1.189759 -0.145834  \n",
       "3                     2               0  0.491764  3.159732  \n",
       "4                     2               0 -1.429977 -1.385421  \n",
       "..                  ...             ...       ...       ...  \n",
       "981                   4               0  0.131438  1.093753  \n",
       "982                   4               0 -1.189759 -0.972225  \n",
       "983                   2               0 -0.469106 -0.145834  \n",
       "984                   4               0  0.491764  0.680558  \n",
       "985                   2               0 -0.228889 -0.559030  \n",
       "\n",
       "[986 rows x 9 columns]"
      ]
     },
     "execution_count": 105,
     "metadata": {},
     "output_type": "execute_result"
    }
   ],
   "source": [
    "preprocessing.fit_transform(X_train)"
   ]
  },
  {
   "cell_type": "code",
   "execution_count": 106,
   "metadata": {},
   "outputs": [
    {
     "data": {
      "text/plain": [
       "[('feats',\n",
       "  FeatureUnion(transformer_list=[('Wife_education',\n",
       "                                  Pipeline(steps=[('selector',\n",
       "                                                   NumberSelector(key='Wife_education'))])),\n",
       "                                 ('Husband_education',\n",
       "                                  Pipeline(steps=[('selector',\n",
       "                                                   NumberSelector(key='Husband_education'))])),\n",
       "                                 ('Religion',\n",
       "                                  Pipeline(steps=[('selector',\n",
       "                                                   NumberSelector(key='Religion'))])),\n",
       "                                 ('Working',\n",
       "                                  Pipeline(steps=[('selector',\n",
       "                                                   NumberSelector(key='Worki...\n",
       "                                  Pipeline(steps=[('selector',\n",
       "                                                   NumberSelector(key='Standard-of-living'))])),\n",
       "                                 ('Media_exposure',\n",
       "                                  Pipeline(steps=[('selector',\n",
       "                                                   NumberSelector(key='Media_exposure'))])),\n",
       "                                 ('Wife_age',\n",
       "                                  Pipeline(steps=[('selector',\n",
       "                                                   NumberSelector(key='Wife_age')),\n",
       "                                                  ('standard',\n",
       "                                                   StandardScaler())])),\n",
       "                                 ('Children',\n",
       "                                  Pipeline(steps=[('selector',\n",
       "                                                   NumberSelector(key='Children')),\n",
       "                                                  ('standard',\n",
       "                                                   StandardScaler())]))])),\n",
       " ('numpy_df',\n",
       "  Pipeline(steps=[('numpy_to_df',\n",
       "                   NumpyToDataFrame(cat_feats=['Wife_education',\n",
       "                                               'Husband_education', 'Religion',\n",
       "                                               'Working', 'Husband_Work',\n",
       "                                               'Standard-of-living',\n",
       "                                               'Media_exposure'],\n",
       "                                    column_names=['Wife_education',\n",
       "                                                  'Husband_education', 'Religion',\n",
       "                                                  'Working', 'Husband_Work',\n",
       "                                                  'Standard-of-living',\n",
       "                                                  'Media_exposure', 'Wife_age',\n",
       "                                                  'Children']))]))]"
      ]
     },
     "execution_count": 106,
     "metadata": {},
     "output_type": "execute_result"
    }
   ],
   "source": [
    "preprocessing.steps"
   ]
  },
  {
   "cell_type": "code",
   "execution_count": 107,
   "metadata": {},
   "outputs": [],
   "source": [
    "pipeline = Pipeline([\n",
    "    ('processing', preprocessing),\n",
    "    ('classifier', CatBoostClassifier(random_state=42, n_estimators=50, cat_features = [\"Wife_education\",\n",
    " \"Husband_education\",\n",
    " \"Religion\",\n",
    " \"Working\",\n",
    " \"Husband_Work\",\n",
    " \"Standard-of-living\",\n",
    " \"Media_exposure\"]))])"
   ]
  },
  {
   "cell_type": "code",
   "execution_count": 108,
   "metadata": {},
   "outputs": [
    {
     "name": "stdout",
     "output_type": "stream",
     "text": [
      "Learning rate set to 0.159722\n",
      "0:\tlearn: 0.6762695\ttotal: 13.4ms\tremaining: 658ms\n",
      "1:\tlearn: 0.6614401\ttotal: 33.7ms\tremaining: 809ms\n",
      "2:\tlearn: 0.6443293\ttotal: 57.6ms\tremaining: 902ms\n",
      "3:\tlearn: 0.6327944\ttotal: 81.1ms\tremaining: 932ms\n",
      "4:\tlearn: 0.6188992\ttotal: 101ms\tremaining: 908ms\n",
      "5:\tlearn: 0.6020831\ttotal: 124ms\tremaining: 910ms\n",
      "6:\tlearn: 0.5887275\ttotal: 147ms\tremaining: 905ms\n",
      "7:\tlearn: 0.5795847\ttotal: 170ms\tremaining: 893ms\n",
      "8:\tlearn: 0.5726788\ttotal: 194ms\tremaining: 885ms\n",
      "9:\tlearn: 0.5667581\ttotal: 221ms\tremaining: 884ms\n",
      "10:\tlearn: 0.5627313\ttotal: 237ms\tremaining: 840ms\n",
      "11:\tlearn: 0.5588972\ttotal: 256ms\tremaining: 811ms\n",
      "12:\tlearn: 0.5557943\ttotal: 279ms\tremaining: 795ms\n",
      "13:\tlearn: 0.5518951\ttotal: 303ms\tremaining: 780ms\n",
      "14:\tlearn: 0.5474694\ttotal: 326ms\tremaining: 762ms\n",
      "15:\tlearn: 0.5431859\ttotal: 349ms\tremaining: 742ms\n",
      "16:\tlearn: 0.5411997\ttotal: 374ms\tremaining: 727ms\n",
      "17:\tlearn: 0.5394373\ttotal: 397ms\tremaining: 707ms\n",
      "18:\tlearn: 0.5374079\ttotal: 421ms\tremaining: 687ms\n",
      "19:\tlearn: 0.5356514\ttotal: 440ms\tremaining: 660ms\n",
      "20:\tlearn: 0.5324598\ttotal: 465ms\tremaining: 642ms\n",
      "21:\tlearn: 0.5295968\ttotal: 488ms\tremaining: 622ms\n",
      "22:\tlearn: 0.5282783\ttotal: 512ms\tremaining: 601ms\n",
      "23:\tlearn: 0.5273978\ttotal: 535ms\tremaining: 580ms\n",
      "24:\tlearn: 0.5263731\ttotal: 559ms\tremaining: 559ms\n",
      "25:\tlearn: 0.5236236\ttotal: 583ms\tremaining: 538ms\n",
      "26:\tlearn: 0.5222698\ttotal: 606ms\tremaining: 517ms\n",
      "27:\tlearn: 0.5222234\ttotal: 618ms\tremaining: 486ms\n",
      "28:\tlearn: 0.5211914\ttotal: 641ms\tremaining: 464ms\n",
      "29:\tlearn: 0.5209101\ttotal: 665ms\tremaining: 443ms\n",
      "30:\tlearn: 0.5194425\ttotal: 692ms\tremaining: 424ms\n",
      "31:\tlearn: 0.5182336\ttotal: 715ms\tremaining: 402ms\n",
      "32:\tlearn: 0.5165265\ttotal: 738ms\tremaining: 380ms\n",
      "33:\tlearn: 0.5156662\ttotal: 762ms\tremaining: 359ms\n",
      "34:\tlearn: 0.5156605\ttotal: 766ms\tremaining: 328ms\n",
      "35:\tlearn: 0.5144351\ttotal: 778ms\tremaining: 303ms\n",
      "36:\tlearn: 0.5132858\ttotal: 798ms\tremaining: 280ms\n",
      "37:\tlearn: 0.5116649\ttotal: 822ms\tremaining: 260ms\n",
      "38:\tlearn: 0.5086180\ttotal: 845ms\tremaining: 238ms\n",
      "39:\tlearn: 0.5078881\ttotal: 872ms\tremaining: 218ms\n",
      "40:\tlearn: 0.5074143\ttotal: 880ms\tremaining: 193ms\n",
      "41:\tlearn: 0.5066683\ttotal: 904ms\tremaining: 172ms\n",
      "42:\tlearn: 0.5061359\ttotal: 927ms\tremaining: 151ms\n",
      "43:\tlearn: 0.5041358\ttotal: 953ms\tremaining: 130ms\n",
      "44:\tlearn: 0.5041271\ttotal: 961ms\tremaining: 107ms\n",
      "45:\tlearn: 0.5033313\ttotal: 985ms\tremaining: 85.7ms\n",
      "46:\tlearn: 0.5023269\ttotal: 1.01s\tremaining: 64.5ms\n",
      "47:\tlearn: 0.5010633\ttotal: 1.03s\tremaining: 43.1ms\n",
      "48:\tlearn: 0.5005337\ttotal: 1.06s\tremaining: 21.6ms\n",
      "49:\tlearn: 0.5001652\ttotal: 1.09s\tremaining: 0us\n",
      "Wall time: 1.15 s\n"
     ]
    },
    {
     "data": {
      "text/plain": [
       "Pipeline(steps=[('processing',\n",
       "                 Pipeline(steps=[('feats',\n",
       "                                  FeatureUnion(transformer_list=[('Wife_education',\n",
       "                                                                  Pipeline(steps=[('selector',\n",
       "                                                                                   NumberSelector(key='Wife_education'))])),\n",
       "                                                                 ('Husband_education',\n",
       "                                                                  Pipeline(steps=[('selector',\n",
       "                                                                                   NumberSelector(key='Husband_education'))])),\n",
       "                                                                 ('Religion',\n",
       "                                                                  Pipeline(steps=[('selector',\n",
       "                                                                                   NumberSelector(key='Religion'))])),\n",
       "                                                                 ('Working...\n",
       "                                                   NumpyToDataFrame(cat_feats=['Wife_education',\n",
       "                                                                               'Husband_education',\n",
       "                                                                               'Religion',\n",
       "                                                                               'Working',\n",
       "                                                                               'Husband_Work',\n",
       "                                                                               'Standard-of-living',\n",
       "                                                                               'Media_exposure'],\n",
       "                                                                    column_names=['Wife_education',\n",
       "                                                                                  'Husband_education',\n",
       "                                                                                  'Religion',\n",
       "                                                                                  'Working',\n",
       "                                                                                  'Husband_Work',\n",
       "                                                                                  'Standard-of-living',\n",
       "                                                                                  'Media_exposure',\n",
       "                                                                                  'Wife_age',\n",
       "                                                                                  'Children']))]))])),\n",
       "                ('classifier',\n",
       "                 <catboost.core.CatBoostClassifier object at 0x000001EB5BA5FC70>)])"
      ]
     },
     "execution_count": 108,
     "metadata": {},
     "output_type": "execute_result"
    }
   ],
   "source": [
    "%%time\n",
    "pipeline.fit(X_train, y_train)"
   ]
  },
  {
   "cell_type": "code",
   "execution_count": 109,
   "metadata": {},
   "outputs": [],
   "source": [
    "with open(\"models/catboost_pipeline.dill\", \"wb\") as f:\n",
    "    dill.dump(pipeline, f)"
   ]
  },
  {
   "cell_type": "code",
   "execution_count": 110,
   "metadata": {},
   "outputs": [
    {
     "data": {
      "text/plain": [
       "array([0.20579507, 0.30951517, 0.28916082, 0.34173639, 0.47908796,\n",
       "       0.24628383, 0.34570022, 0.4002813 , 0.30015241, 0.91360185])"
      ]
     },
     "execution_count": 110,
     "metadata": {},
     "output_type": "execute_result"
    }
   ],
   "source": [
    "y_pred = pipeline.predict_proba(X_test)[:, 1]\n",
    "y_pred[:10]"
   ]
  },
  {
   "cell_type": "code",
   "execution_count": null,
   "metadata": {},
   "outputs": [],
   "source": []
  },
  {
   "cell_type": "code",
   "execution_count": 111,
   "metadata": {
    "scrolled": true
   },
   "outputs": [
    {
     "name": "stdout",
     "output_type": "stream",
     "text": [
      "Best threshold: 0.34131486006052486, F-score: 0.6932773109243698, precision: 0.6111111111111112, recall: 0.8009708737864077, roc_auc = 0.7959437515115919\n"
     ]
    }
   ],
   "source": [
    "precision, recall, thresholds = precision_recall_curve(y_test, y_pred)\n",
    "\n",
    "f1 = (2*precision*recall)/(precision+recall)\n",
    "\n",
    "ix = np.argmax(f1)\n",
    "\n",
    "roc = roc_auc_score(y_test, y_pred)\n",
    "\n",
    "print(f'Best threshold: {thresholds[ix]}, F-score: {f1[ix]}, precision: {precision[ix]}, recall: {recall[ix]}, roc_auc = {roc}')"
   ]
  },
  {
   "cell_type": "code",
   "execution_count": null,
   "metadata": {},
   "outputs": [],
   "source": []
  }
 ],
 "metadata": {
  "colab": {
   "collapsed_sections": [
    "Uf6zzqEfMz_P",
    "bp20W5AgMz_S",
    "imcLF2QJMz_T",
    "C416R9lMMz_U",
    "UNAvTCbMMz_V",
    "9TEs98U8Mz_W"
   ],
   "provenance": []
  },
  "kernelspec": {
   "display_name": "Python 3 (ipykernel)",
   "language": "python",
   "name": "python3"
  },
  "language_info": {
   "codemirror_mode": {
    "name": "ipython",
    "version": 3
   },
   "file_extension": ".py",
   "mimetype": "text/x-python",
   "name": "python",
   "nbconvert_exporter": "python",
   "pygments_lexer": "ipython3",
   "version": "3.9.7"
  },
  "toc": {
   "base_numbering": 1,
   "nav_menu": {},
   "number_sections": true,
   "sideBar": true,
   "skip_h1_title": false,
   "title_cell": "Table of Contents",
   "title_sidebar": "Contents",
   "toc_cell": false,
   "toc_position": {},
   "toc_section_display": true,
   "toc_window_display": false
  }
 },
 "nbformat": 4,
 "nbformat_minor": 1
}
